{
 "cells": [
  {
   "cell_type": "markdown",
   "metadata": {},
   "source": [
    "# PAC+KNN"
   ]
  },
  {
   "cell_type": "code",
   "execution_count": 70,
   "metadata": {},
   "outputs": [],
   "source": [
    "import numpy as np\n",
    "from scipy.spatial.distance import cdist\n",
    "\n",
    "\n",
    "cace = {}\n",
    "\n",
    "def get_sig_matrix(A : np.array, num):\n",
    "        # 将 train 转换为字节串（不可变类型）作为缓存键\n",
    "    train_bytes = A.tobytes()\n",
    "\n",
    "    # 如果缓存中已有结果，直接返回缓存的结果\n",
    "    if train_bytes in cace:\n",
    "        (eigenvalues, eigenvectors) = cace[train_bytes]\n",
    "    else :\n",
    "        eigenvalues, eigenvectors = np.linalg.eigh(A)\n",
    "        cace[train_bytes] = (eigenvalues, eigenvectors)\n",
    "\n",
    "    sorted_indices = np.argsort(eigenvalues)[::-1] \n",
    "    sorted_eigenvalues = eigenvalues[sorted_indices] \n",
    "    sorted_eigenvectors = eigenvectors[:, sorted_indices]  \n",
    "\n",
    "    top_eigenvectors = sorted_eigenvectors[:, :num]\n",
    "\n",
    "    return top_eigenvectors\n",
    "\n",
    "def find_nearest_columns(train, test):\n",
    "    # 计算欧氏距离，返回一个 (test.shape[1], train.shape[1]) 的矩阵\n",
    "\n",
    "    distances = cdist(test.T, train.T, metric='euclidean')\n",
    "    # 对每一列（test的每一列）找到最近的 train 中的列索引\n",
    "    nearest_indices = np.argmin(distances, axis=1)\n",
    "    return nearest_indices\n",
    "\n",
    "def count_mismatches(train_class, test_class, clasfi):\n",
    "    # 直接比较test_class和train_class[clasfi]，返回布尔数组，求和得到不一致的次数\n",
    "    return np.sum(test_class != train_class[clasfi])\n"
   ]
  },
  {
   "cell_type": "code",
   "execution_count": 79,
   "metadata": {},
   "outputs": [],
   "source": [
    "cache = {}\n",
    "def get_s_b(train: np.array):\n",
    "    # 将 train 转换为字节串（不可变类型）作为缓存键\n",
    "    train_bytes = train.tobytes()\n",
    "\n",
    "    # 如果缓存中已有结果，直接返回缓存的结果\n",
    "    if train_bytes in cache:\n",
    "        return cache[train_bytes]\n",
    "    \n",
    "    # 如果没有缓存，进行计算\n",
    "    train_centered = train - train.mean(axis=1, keepdims=True)\n",
    "    C = np.full((train.shape[0], train.shape[0]), 0.0)\n",
    "    for i in range(train.shape[1]):\n",
    "        C += np.outer(train_centered[:, i:i+1], train_centered[:, i:i+1])\n",
    "\n",
    "    # 将计算结果保存到缓存中\n",
    "    cache[train_bytes] = C\n",
    "    return C\n",
    "\n",
    "\n",
    "def PCA(train : np.array, train_class : np.array, test : np.array, test_class : np.array,  dim):\n",
    "    C = get_s_b(train)\n",
    "    W = get_sig_matrix(C, dim)\n",
    "\n",
    "    train, test = W.T @ train, W.T @ test\n",
    "    clasfi = find_nearest_columns(train, test)\n",
    "    error = count_mismatches(train_class, test_class, clasfi)\n",
    "    return error / len(test_class)\n",
    "\n",
    "def LDA(train : np.array, train_class : np.array, test : np.array, test_class : np.array,  dim):\n",
    "    classes = np.unique(train_class)\n",
    "    n_features = train.shape[0]\n",
    "    S_W = np.zeros((n_features, n_features))\n",
    "    for c in classes:\n",
    "        class_samples = train[:, train_class == c]\n",
    "        S_W += get_s_b(class_samples)\n",
    "    \n",
    "    S_B = get_s_b(train)\n",
    "\n",
    "    W = get_sig_matrix(np.linalg.pinv(S_W) @ S_B, dim)\n",
    "\n",
    "    train, test = W.T @ train, W.T @ test\n",
    "    clasfi = find_nearest_columns(train, test)\n",
    "    error = count_mismatches(train_class, test_class, clasfi)\n",
    "    \n",
    "    return error / len(test_class)\n",
    "\n",
    "# test = np.array([[1, 2, 3], [4, 5, 6], [7, 8, 9]])\n",
    "# c = np.array([1, 1, 3])\n",
    "# LDA(test, c, test, c , 1)"
   ]
  },
  {
   "cell_type": "code",
   "execution_count": 81,
   "metadata": {},
   "outputs": [
    {
     "data": {
      "image/png": "[encoded data removed]",
      "text/plain": [
       "<Figure size 640x480 with 1 Axes>"
      ]
     },
     "metadata": {},
     "output_type": "display_data"
    },
    {
     "name": "stdout",
     "output_type": "stream",
     "text": [
      "数据维度: (400, 644)\n",
      "标签的最大类别值: 40\n"
     ]
    }
   ],
   "source": [
    "# 将每 5 个样本的前 4 个作为训练集，最后 1 个作为测试集\n",
    "import numpy as np\n",
    "import scipy.io\n",
    "import matplotlib.pyplot as plt\n",
    "\n",
    "# 加载 .mat 文件\n",
    "data = scipy.io.loadmat('ORLData_25.mat')\n",
    "\n",
    "# 假设 'ORLData' 是 MATLAB 数据字典中的一个键\n",
    "ORLData = data['ORLData']\n",
    "\n",
    "# 转换为 numpy 数组\n",
    "X = ORLData.T  # 转置\n",
    "X = X.astype(float)  # 转换为 float 类型\n",
    "\n",
    "# 获取样本的数量和维度\n",
    "n, dim = X.shape\n",
    "labels = X[:, -1]\n",
    "labels = np.floor(labels).astype(int)\n",
    "\n",
    "c = np.max(labels)\n",
    "\n",
    "X = X[:, :-1]\n",
    "\n",
    "indices = np.arange(X.shape[0])\n",
    "# 将每 5 个样本的前 4 个作为训练集，最后 1 个作为测试集\n",
    "train_indices = indices[indices % 5 != 4]\n",
    "test_indices = indices[indices % 5 == 4]\n",
    "\n",
    "# error = PCA(X[train_indices].T, labels[train_indices], X[test_indices].T, labels[test_indices], 100)\n",
    "# error = LDA(X[train_indices].T, labels[train_indices], X[test_indices].T, labels[test_indices], 15)\n",
    "x = range(1, X.shape[1]+1, 5)\n",
    "A, B, C, D = X[train_indices].T, labels[train_indices], X[test_indices].T, labels[test_indices]\n",
    "y = [PCA(A, B, C, D, a) for a in x]\n",
    "plt.plot(x, y, label=\"PCA\", color='b', linestyle='-', linewidth=1)\n",
    "\n",
    "y = [LDA(A, B, C, D, a) for a in x]\n",
    "plt.plot(x, y, label=\"LDA\", color='r', linestyle='-', linewidth=1)\n",
    "plt.legend()\n",
    "plt.show()\n",
    "\n",
    "# print(f\"错误率: {error*100 : .3f}%\")\n",
    "print(f\"数据维度: {X.shape}\")\n",
    "print(f\"标签的最大类别值: {c}\")\n"
   ]
  },
  {
   "cell_type": "code",
   "execution_count": 82,
   "metadata": {},
   "outputs": [
    {
     "name": "stdout",
     "output_type": "stream",
     "text": [
      "(846, 19)\n"
     ]
    },
    {
     "data": {
      "image/png": "[encoded data removed]",
      "text/plain": [
       "<Figure size 640x480 with 1 Axes>"
      ]
     },
     "metadata": {},
     "output_type": "display_data"
    },
    {
     "name": "stdout",
     "output_type": "stream",
     "text": [
      "数据维度: (846, 18)\n",
      "标签的最大类别值: 4\n"
     ]
    }
   ],
   "source": [
    "# 将每 5 个样本的前 4 个作为训练集，最后 1 个作为测试集\n",
    "import numpy as np\n",
    "import scipy.io\n",
    "\n",
    "# 加载 .mat 文件\n",
    "data = scipy.io.loadmat('vehicle.mat')\n",
    "\n",
    "# 假设 'ORLData' 是 MATLAB 数据字典中的一个键\n",
    "vehicle = data['UCI_entropy_data']['train_data'][0,0]\n",
    "\n",
    "\n",
    "# 转换为 numpy 数组\n",
    "X = vehicle.T  # 转置\n",
    "X = X.astype(float)  # 转换为 float 类型\n",
    "\n",
    "# 获取样本的数量和维度\n",
    "n, dim = X.shape\n",
    "print(X.shape)\n",
    "labels = X[:, -1]\n",
    "labels = np.floor(labels).astype(int)\n",
    "\n",
    "c = np.max(labels)\n",
    "\n",
    "X = X[:, :-1]\n",
    "\n",
    "indices = np.arange(X.shape[0])\n",
    "# 将每 5 个样本的前 4 个作为训练集，最后 1 个作为测试集\n",
    "train_indices = indices[indices % 5 != 4]\n",
    "test_indices = indices[indices % 5 == 4]\n",
    "\n",
    "# error = PCA(X[train_indices].T, labels[train_indices], X[test_indices].T, labels[test_indices], 100)\n",
    "# error = LDA(X[train_indices].T, labels[train_indices], X[test_indices].T, labels[test_indices], 15)\n",
    "\n",
    "x = range(1, X.shape[1]+1)\n",
    "A, B, C, D = X[train_indices].T, labels[train_indices], X[test_indices].T, labels[test_indices]\n",
    "y = [PCA(A, B, C, D, a) for a in x]\n",
    "plt.plot(x, y, label=\"PCA\", color='b', linestyle='-', linewidth=2)\n",
    "\n",
    "y = [LDA(A, B, C, D, a) for a in x]\n",
    "plt.plot(x, y, label=\"LDA\", color='r', linestyle='-', linewidth=2)\n",
    "plt.legend()\n",
    "plt.show()\n",
    "\n",
    "# print(f\"错误率: {error*100 : .3f}%\")\n",
    "print(f\"数据维度: {X.shape}\")\n",
    "print(f\"标签的最大类别值: {c}\")\n"
   ]
  }
 ],
 "metadata": {
  "kernelspec": {
   "display_name": "Python 3",
   "language": "python",
   "name": "python3"
  },
  "language_info": {
   "codemirror_mode": {
    "name": "ipython",
    "version": 3
   },
   "file_extension": ".py",
   "mimetype": "text/x-python",
   "name": "python",
   "nbconvert_exporter": "python",
   "pygments_lexer": "ipython3",
   "version": "3.11.4"
  }
 },
 "nbformat": 4,
 "nbformat_minor": 2
}
